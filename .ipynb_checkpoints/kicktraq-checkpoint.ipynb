{
 "cells": [
  {
   "cell_type": "code",
   "execution_count": 2,
   "metadata": {},
   "outputs": [],
   "source": [
    "import pandas as pd\n",
    "import numpy as np\n",
    "import re"
   ]
  },
  {
   "cell_type": "code",
   "execution_count": null,
   "metadata": {},
   "outputs": [],
   "source": [
    "# pd.set_option('display.min_rows',0) # less likely helpful except specific circumstance\n",
    "# pd.set_option('display.max_rows',None) "
   ]
  },
  {
   "cell_type": "markdown",
   "metadata": {},
   "source": [
    "##### Check scraped 700 pages"
   ]
  },
  {
   "cell_type": "code",
   "execution_count": null,
   "metadata": {},
   "outputs": [],
   "source": [
    "df = pd.read_csv('/Users/judy/Desktop/WebScp/GitWebScp/kicktraq/kicktraq/kicktraq.csv')"
   ]
  },
  {
   "cell_type": "code",
   "execution_count": null,
   "metadata": {},
   "outputs": [],
   "source": [
    "df.shape[0]/15 #15 projects per page\n"
   ]
  },
  {
   "cell_type": "code",
   "execution_count": null,
   "metadata": {},
   "outputs": [],
   "source": [
    "df.shape[0]"
   ]
  },
  {
   "cell_type": "markdown",
   "metadata": {},
   "source": [
    "###### Rescraped to include try except=None on backers"
   ]
  },
  {
   "cell_type": "code",
   "execution_count": null,
   "metadata": {},
   "outputs": [],
   "source": [
    "df2 = pd.read_csv('/Users/judy/Desktop/WebScp/GitWebScp/kicktraq/kicktraq/kicktraq2.csv')"
   ]
  },
  {
   "cell_type": "code",
   "execution_count": null,
   "metadata": {},
   "outputs": [],
   "source": [
    "df2.shape[0]/15 # check if 700 pages"
   ]
  },
  {
   "cell_type": "markdown",
   "metadata": {},
   "source": [
    "##### Check to see if any backers null"
   ]
  },
  {
   "cell_type": "code",
   "execution_count": null,
   "metadata": {},
   "outputs": [],
   "source": [
    "df2.loc[df2['backers'].isnull()] #no nulls"
   ]
  },
  {
   "cell_type": "markdown",
   "metadata": {},
   "source": [
    "##### Check to see if two scrapes returned same number rows"
   ]
  },
  {
   "cell_type": "code",
   "execution_count": null,
   "metadata": {},
   "outputs": [],
   "source": [
    "df2.shape[0] == df.shape[0]"
   ]
  },
  {
   "cell_type": "markdown",
   "metadata": {},
   "source": [
    "# Transformation"
   ]
  },
  {
   "cell_type": "code",
   "execution_count": 3,
   "metadata": {},
   "outputs": [],
   "source": [
    "# Using df2 reassign as dfn for newly scraped kicktraq - to distinguish between older kaggle dataset (dfo)\n",
    "dfn = pd.read_csv('/Users/judy/Desktop/WebScp/GitWebScp/kicktraq/kicktraq/kicktraq2.csv')"
   ]
  },
  {
   "cell_type": "code",
   "execution_count": 4,
   "metadata": {},
   "outputs": [
    {
     "data": {
      "text/html": [
       "<div>\n",
       "<style scoped>\n",
       "    .dataframe tbody tr th:only-of-type {\n",
       "        vertical-align: middle;\n",
       "    }\n",
       "\n",
       "    .dataframe tbody tr th {\n",
       "        vertical-align: top;\n",
       "    }\n",
       "\n",
       "    .dataframe thead th {\n",
       "        text-align: right;\n",
       "    }\n",
       "</style>\n",
       "<table border=\"1\" class=\"dataframe\">\n",
       "  <thead>\n",
       "    <tr style=\"text-align: right;\">\n",
       "      <th></th>\n",
       "      <th>backers</th>\n",
       "      <th>category</th>\n",
       "      <th>currency</th>\n",
       "      <th>description</th>\n",
       "      <th>goal</th>\n",
       "      <th>main_category</th>\n",
       "      <th>names</th>\n",
       "      <th>pledged</th>\n",
       "      <th>proj_details</th>\n",
       "      <th>status</th>\n",
       "    </tr>\n",
       "  </thead>\n",
       "  <tbody>\n",
       "    <tr>\n",
       "      <th>1343</th>\n",
       "      <td>4</td>\n",
       "      <td>NaN</td>\n",
       "      <td>€</td>\n",
       "      <td>Luthier laboratory for Italian handmade instru...</td>\n",
       "      <td>22000.0</td>\n",
       "      <td>crafts</td>\n",
       "      <td>Wabi-Sabi Guitars - Handcrafted in Italy</td>\n",
       "      <td>13.0</td>\n",
       "      <td>\\n\\t\\t\\t\\t\\tBackers: 4,\\n\\t\\t\\t\\t\\tFunding: €1...</td>\n",
       "      <td>Closed</td>\n",
       "    </tr>\n",
       "    <tr>\n",
       "      <th>6776</th>\n",
       "      <td>2</td>\n",
       "      <td>games|playing cards</td>\n",
       "      <td>$</td>\n",
       "      <td>This card game will  keep you and your family ...</td>\n",
       "      <td>4400.0</td>\n",
       "      <td>games</td>\n",
       "      <td>Stay at home game.</td>\n",
       "      <td>2.0</td>\n",
       "      <td>\\n\\t\\t\\t\\t\\tBackers: 2,\\n\\t\\t\\t\\t\\tFunding: $2...</td>\n",
       "      <td>Closed</td>\n",
       "    </tr>\n",
       "    <tr>\n",
       "      <th>3054</th>\n",
       "      <td>65</td>\n",
       "      <td>NaN</td>\n",
       "      <td>$</td>\n",
       "      <td>An enamel pin set featuring nature's beauty.</td>\n",
       "      <td>400.0</td>\n",
       "      <td>art</td>\n",
       "      <td>Lily Pond- Enamel Pin Set</td>\n",
       "      <td>2371.0</td>\n",
       "      <td>\\n\\t\\t\\t\\t\\tBackers: 65,\\n\\t\\t\\t\\t\\tFunding: $...</td>\n",
       "      <td>Closed</td>\n",
       "    </tr>\n",
       "    <tr>\n",
       "      <th>5750</th>\n",
       "      <td>9</td>\n",
       "      <td>publishing|fiction</td>\n",
       "      <td>$</td>\n",
       "      <td>The fourth standalone novel by D. L. Silvertho...</td>\n",
       "      <td>2000.0</td>\n",
       "      <td>publishing</td>\n",
       "      <td>Shotgun</td>\n",
       "      <td>191.0</td>\n",
       "      <td>\\n\\t\\t\\t\\t\\tBackers: 9,\\n\\t\\t\\t\\t\\tFunding: $1...</td>\n",
       "      <td>Closed</td>\n",
       "    </tr>\n",
       "    <tr>\n",
       "      <th>471</th>\n",
       "      <td>59</td>\n",
       "      <td>games|tabletop games</td>\n",
       "      <td>$</td>\n",
       "      <td>A highly engaging remote team building activit...</td>\n",
       "      <td>200.0</td>\n",
       "      <td>games</td>\n",
       "      <td>Project U - An Escape Room Game for remote teams</td>\n",
       "      <td>1211.0</td>\n",
       "      <td>\\n\\t\\t\\t\\t\\tBackers: 59,\\n\\t\\t\\t\\t\\tFunding: $...</td>\n",
       "      <td>Closed</td>\n",
       "    </tr>\n",
       "  </tbody>\n",
       "</table>\n",
       "</div>"
      ],
      "text/plain": [
       "      backers              category currency  \\\n",
       "1343        4                   NaN        €   \n",
       "6776        2   games|playing cards        $   \n",
       "3054       65                   NaN        $   \n",
       "5750        9    publishing|fiction        $   \n",
       "471        59  games|tabletop games        $   \n",
       "\n",
       "                                            description     goal  \\\n",
       "1343  Luthier laboratory for Italian handmade instru...  22000.0   \n",
       "6776  This card game will  keep you and your family ...   4400.0   \n",
       "3054       An enamel pin set featuring nature's beauty.    400.0   \n",
       "5750  The fourth standalone novel by D. L. Silvertho...   2000.0   \n",
       "471   A highly engaging remote team building activit...    200.0   \n",
       "\n",
       "     main_category                                             names  pledged  \\\n",
       "1343        crafts          Wabi-Sabi Guitars - Handcrafted in Italy     13.0   \n",
       "6776         games                                Stay at home game.      2.0   \n",
       "3054           art                         Lily Pond- Enamel Pin Set   2371.0   \n",
       "5750    publishing                                           Shotgun    191.0   \n",
       "471          games  Project U - An Escape Room Game for remote teams   1211.0   \n",
       "\n",
       "                                           proj_details  status  \n",
       "1343  \\n\\t\\t\\t\\t\\tBackers: 4,\\n\\t\\t\\t\\t\\tFunding: €1...  Closed  \n",
       "6776  \\n\\t\\t\\t\\t\\tBackers: 2,\\n\\t\\t\\t\\t\\tFunding: $2...  Closed  \n",
       "3054  \\n\\t\\t\\t\\t\\tBackers: 65,\\n\\t\\t\\t\\t\\tFunding: $...  Closed  \n",
       "5750  \\n\\t\\t\\t\\t\\tBackers: 9,\\n\\t\\t\\t\\t\\tFunding: $1...  Closed  \n",
       "471   \\n\\t\\t\\t\\t\\tBackers: 59,\\n\\t\\t\\t\\t\\tFunding: $...  Closed  "
      ]
     },
     "execution_count": 4,
     "metadata": {},
     "output_type": "execute_result"
    }
   ],
   "source": [
    "dfn.sample(5)"
   ]
  },
  {
   "cell_type": "code",
   "execution_count": 5,
   "metadata": {},
   "outputs": [],
   "source": [
    "# dropping some columns, will get from proj_details with more accuracy\n",
    "dfn = dfn.drop(['currency', 'goal', 'pledged'], axis=1)"
   ]
  },
  {
   "cell_type": "markdown",
   "metadata": {},
   "source": [
    "### Splitting category"
   ]
  },
  {
   "cell_type": "code",
   "execution_count": 6,
   "metadata": {},
   "outputs": [],
   "source": [
    "# split on '|' make new dfn_cat\n",
    "dfn_cat = dfn['category'].str.split('|',expand=True) # merge to data frame"
   ]
  },
  {
   "cell_type": "code",
   "execution_count": 7,
   "metadata": {},
   "outputs": [],
   "source": [
    "# concat dfn and dfn_cat, drop 0 (name of the first component of split), rename second new column 'sub_category'\n",
    "dfn = pd.concat([dfn, dfn_cat], axis=1).drop(0,1).rename(columns = {1:'sub_category'})"
   ]
  },
  {
   "cell_type": "code",
   "execution_count": 8,
   "metadata": {},
   "outputs": [
    {
     "data": {
      "text/html": [
       "<div>\n",
       "<style scoped>\n",
       "    .dataframe tbody tr th:only-of-type {\n",
       "        vertical-align: middle;\n",
       "    }\n",
       "\n",
       "    .dataframe tbody tr th {\n",
       "        vertical-align: top;\n",
       "    }\n",
       "\n",
       "    .dataframe thead th {\n",
       "        text-align: right;\n",
       "    }\n",
       "</style>\n",
       "<table border=\"1\" class=\"dataframe\">\n",
       "  <thead>\n",
       "    <tr style=\"text-align: right;\">\n",
       "      <th></th>\n",
       "      <th>backers</th>\n",
       "      <th>category</th>\n",
       "      <th>description</th>\n",
       "      <th>main_category</th>\n",
       "      <th>names</th>\n",
       "      <th>proj_details</th>\n",
       "      <th>status</th>\n",
       "      <th>sub_category</th>\n",
       "    </tr>\n",
       "  </thead>\n",
       "  <tbody>\n",
       "    <tr>\n",
       "      <th>9819</th>\n",
       "      <td>20</td>\n",
       "      <td>NaN</td>\n",
       "      <td>Grim Lemons is creating stickers, pins, plushi...</td>\n",
       "      <td>art</td>\n",
       "      <td>Grim Lemons Kickoff</td>\n",
       "      <td>\\n\\t\\t\\t\\t\\tBackers: 20,\\n\\t\\t\\t\\t\\tFunding: $...</td>\n",
       "      <td>Closed</td>\n",
       "      <td>NaN</td>\n",
       "    </tr>\n",
       "    <tr>\n",
       "      <th>10001</th>\n",
       "      <td>3</td>\n",
       "      <td>fashion|apparel</td>\n",
       "      <td>Delivering luxury through high quality and end...</td>\n",
       "      <td>fashion</td>\n",
       "      <td>Instinct Copenhagen: Statement Pieces &amp; Access...</td>\n",
       "      <td>\\n\\t\\t\\t\\t\\tBackers: 3,\\n\\t\\t\\t\\t\\tFunding: kr...</td>\n",
       "      <td>Closed</td>\n",
       "      <td>apparel</td>\n",
       "    </tr>\n",
       "    <tr>\n",
       "      <th>3185</th>\n",
       "      <td>1419</td>\n",
       "      <td>games|tabletop games</td>\n",
       "      <td>Three new Undead teams for Fantasy Football. M...</td>\n",
       "      <td>games</td>\n",
       "      <td>Vampires, Egyptians and Necromancers for Fanta...</td>\n",
       "      <td>\\n\\t\\t\\t\\t\\tBackers: 1419,\\n\\t\\t\\t\\t\\tFunding:...</td>\n",
       "      <td>Closed</td>\n",
       "      <td>tabletop games</td>\n",
       "    </tr>\n",
       "    <tr>\n",
       "      <th>1075</th>\n",
       "      <td>8</td>\n",
       "      <td>technology|apps</td>\n",
       "      <td>A delivery App that allows you to purchase dri...</td>\n",
       "      <td>technology</td>\n",
       "      <td>Skygoody- Buy your friends drinks on airlines ...</td>\n",
       "      <td>\\n\\t\\t\\t\\t\\tBackers: 8,\\n\\t\\t\\t\\t\\tFunding: $1...</td>\n",
       "      <td>Closed</td>\n",
       "      <td>apps</td>\n",
       "    </tr>\n",
       "    <tr>\n",
       "      <th>6583</th>\n",
       "      <td>1978</td>\n",
       "      <td>design|product design</td>\n",
       "      <td>Amazing last generation of silicone Brush for ...</td>\n",
       "      <td>design</td>\n",
       "      <td>SCRUBBIO® 8-in-1: Eco Multifunctional Magic Si...</td>\n",
       "      <td>\\n\\t\\t\\t\\t\\tBackers: 1978,\\n\\t\\t\\t\\t\\tFunding:...</td>\n",
       "      <td>Closed</td>\n",
       "      <td>product design</td>\n",
       "    </tr>\n",
       "  </tbody>\n",
       "</table>\n",
       "</div>"
      ],
      "text/plain": [
       "       backers               category  \\\n",
       "9819        20                    NaN   \n",
       "10001        3        fashion|apparel   \n",
       "3185      1419   games|tabletop games   \n",
       "1075         8        technology|apps   \n",
       "6583      1978  design|product design   \n",
       "\n",
       "                                             description main_category  \\\n",
       "9819   Grim Lemons is creating stickers, pins, plushi...           art   \n",
       "10001  Delivering luxury through high quality and end...       fashion   \n",
       "3185   Three new Undead teams for Fantasy Football. M...         games   \n",
       "1075   A delivery App that allows you to purchase dri...    technology   \n",
       "6583   Amazing last generation of silicone Brush for ...        design   \n",
       "\n",
       "                                                   names  \\\n",
       "9819                                 Grim Lemons Kickoff   \n",
       "10001  Instinct Copenhagen: Statement Pieces & Access...   \n",
       "3185   Vampires, Egyptians and Necromancers for Fanta...   \n",
       "1075   Skygoody- Buy your friends drinks on airlines ...   \n",
       "6583   SCRUBBIO® 8-in-1: Eco Multifunctional Magic Si...   \n",
       "\n",
       "                                            proj_details  status  \\\n",
       "9819   \\n\\t\\t\\t\\t\\tBackers: 20,\\n\\t\\t\\t\\t\\tFunding: $...  Closed   \n",
       "10001  \\n\\t\\t\\t\\t\\tBackers: 3,\\n\\t\\t\\t\\t\\tFunding: kr...  Closed   \n",
       "3185   \\n\\t\\t\\t\\t\\tBackers: 1419,\\n\\t\\t\\t\\t\\tFunding:...  Closed   \n",
       "1075   \\n\\t\\t\\t\\t\\tBackers: 8,\\n\\t\\t\\t\\t\\tFunding: $1...  Closed   \n",
       "6583   \\n\\t\\t\\t\\t\\tBackers: 1978,\\n\\t\\t\\t\\t\\tFunding:...  Closed   \n",
       "\n",
       "         sub_category  \n",
       "9819              NaN  \n",
       "10001         apparel  \n",
       "3185   tabletop games  \n",
       "1075             apps  \n",
       "6583   product design  "
      ]
     },
     "execution_count": 8,
     "metadata": {},
     "output_type": "execute_result"
    }
   ],
   "source": [
    "dfn.sample(5)"
   ]
  },
  {
   "cell_type": "markdown",
   "metadata": {},
   "source": [
    "##### Extracting date portion of proj_details into 'campaign_dates' col - there are no missing values "
   ]
  },
  {
   "cell_type": "code",
   "execution_count": 9,
   "metadata": {},
   "outputs": [],
   "source": [
    "### KEEP THIS! THIS GETS campaign dates as a chunck will play with to get datetimes\n",
    "dfn['campaign_dates'] = [re.findall('Campaign (Dates: .+)', el)[0] for el in dfn['proj_details']]    "
   ]
  },
  {
   "cell_type": "markdown",
   "metadata": {},
   "source": [
    "##### 'launched' col from campaign_dates"
   ]
  },
  {
   "cell_type": "code",
   "execution_count": 10,
   "metadata": {},
   "outputs": [],
   "source": [
    "# creates list of tuples with Month, day , year\n",
    "start_date = [re.findall('Dates: (\\D*) (\\d*).+\\((\\d+)\\)', el)[0] for el in dfn['campaign_dates']]"
   ]
  },
  {
   "cell_type": "code",
   "execution_count": 11,
   "metadata": {
    "scrolled": false
   },
   "outputs": [],
   "source": [
    "# join tuple elements into string, now list of strings\n",
    "start_date = [' '.join(date) for date in start_date]"
   ]
  },
  {
   "cell_type": "code",
   "execution_count": 12,
   "metadata": {},
   "outputs": [
    {
     "name": "stderr",
     "output_type": "stream",
     "text": [
      "/opt/anaconda3/lib/python3.7/site-packages/ipykernel_launcher.py:2: FutureWarning: The pandas.datetime class is deprecated and will be removed from pandas in a future version. Import from datetime module instead.\n",
      "  \n"
     ]
    }
   ],
   "source": [
    "# create column 'launched' with datetime object from list\n",
    "dfn['launched']= [pd.datetime.strptime(s, '%B %d %Y') for s in start_date]"
   ]
  },
  {
   "cell_type": "code",
   "execution_count": 13,
   "metadata": {},
   "outputs": [
    {
     "data": {
      "text/html": [
       "<div>\n",
       "<style scoped>\n",
       "    .dataframe tbody tr th:only-of-type {\n",
       "        vertical-align: middle;\n",
       "    }\n",
       "\n",
       "    .dataframe tbody tr th {\n",
       "        vertical-align: top;\n",
       "    }\n",
       "\n",
       "    .dataframe thead th {\n",
       "        text-align: right;\n",
       "    }\n",
       "</style>\n",
       "<table border=\"1\" class=\"dataframe\">\n",
       "  <thead>\n",
       "    <tr style=\"text-align: right;\">\n",
       "      <th></th>\n",
       "      <th>backers</th>\n",
       "      <th>category</th>\n",
       "      <th>description</th>\n",
       "      <th>main_category</th>\n",
       "      <th>names</th>\n",
       "      <th>proj_details</th>\n",
       "      <th>status</th>\n",
       "      <th>sub_category</th>\n",
       "      <th>campaign_dates</th>\n",
       "      <th>launched</th>\n",
       "    </tr>\n",
       "  </thead>\n",
       "  <tbody>\n",
       "    <tr>\n",
       "      <th>0</th>\n",
       "      <td>10</td>\n",
       "      <td>food|drinks</td>\n",
       "      <td>A do it yourself boba tea kit that allows you ...</td>\n",
       "      <td>food</td>\n",
       "      <td>Boba Era: Boba From Home</td>\n",
       "      <td>\\n\\t\\t\\t\\t\\tBackers: 10,\\n\\t\\t\\t\\t\\tFunding: $...</td>\n",
       "      <td>Cancelled</td>\n",
       "      <td>drinks</td>\n",
       "      <td>Dates: June 3rd -&gt; August 2nd (2020),</td>\n",
       "      <td>2020-06-03</td>\n",
       "    </tr>\n",
       "    <tr>\n",
       "      <th>1</th>\n",
       "      <td>1</td>\n",
       "      <td>fashion|apparel</td>\n",
       "      <td>Sophisticated Mexican old school style apparel.</td>\n",
       "      <td>fashion</td>\n",
       "      <td>Mr Cochino Apparel</td>\n",
       "      <td>\\n\\t\\t\\t\\t\\tBackers: 1,\\n\\t\\t\\t\\t\\tFunding: $1...</td>\n",
       "      <td>Cancelled</td>\n",
       "      <td>apparel</td>\n",
       "      <td>Dates: June 26th -&gt; August 2nd (2020),</td>\n",
       "      <td>2020-06-26</td>\n",
       "    </tr>\n",
       "    <tr>\n",
       "      <th>2</th>\n",
       "      <td>1</td>\n",
       "      <td>fashion|apparel</td>\n",
       "      <td>RotenStein Clothing Co. Una nueva marca de rop...</td>\n",
       "      <td>fashion</td>\n",
       "      <td>RotenStein Clothing Co. (Arte en tu ropa)</td>\n",
       "      <td>\\n\\t\\t\\t\\t\\tBackers: 1,\\n\\t\\t\\t\\t\\tFunding: MX...</td>\n",
       "      <td>Cancelled</td>\n",
       "      <td>apparel</td>\n",
       "      <td>Dates: June 3rd -&gt; August 2nd (2020),</td>\n",
       "      <td>2020-06-03</td>\n",
       "    </tr>\n",
       "    <tr>\n",
       "      <th>3</th>\n",
       "      <td>1</td>\n",
       "      <td>games|video games</td>\n",
       "      <td>Z-City, A Zombie based Survival-Battle Royale ...</td>\n",
       "      <td>games</td>\n",
       "      <td>Z-City Survival-Battle Royale</td>\n",
       "      <td>\\n\\t\\t\\t\\t\\tBackers: 1,\\n\\t\\t\\t\\t\\tFunding: $1...</td>\n",
       "      <td>Cancelled</td>\n",
       "      <td>video games</td>\n",
       "      <td>Dates: July 3rd -&gt; August 2nd (2020),</td>\n",
       "      <td>2020-07-03</td>\n",
       "    </tr>\n",
       "    <tr>\n",
       "      <th>4</th>\n",
       "      <td>0</td>\n",
       "      <td>comics|graphic novels</td>\n",
       "      <td>A Samurai Horror Graphic Novel</td>\n",
       "      <td>comics</td>\n",
       "      <td>Death Kanji</td>\n",
       "      <td>\\n\\t\\t\\t\\t\\tBackers: 0,\\n\\t\\t\\t\\t\\tFunding: $0...</td>\n",
       "      <td>Cancelled</td>\n",
       "      <td>graphic novels</td>\n",
       "      <td>Dates: July 3rd -&gt; August 2nd (2020),</td>\n",
       "      <td>2020-07-03</td>\n",
       "    </tr>\n",
       "  </tbody>\n",
       "</table>\n",
       "</div>"
      ],
      "text/plain": [
       "   backers               category  \\\n",
       "0       10            food|drinks   \n",
       "1        1        fashion|apparel   \n",
       "2        1        fashion|apparel   \n",
       "3        1      games|video games   \n",
       "4        0  comics|graphic novels   \n",
       "\n",
       "                                         description main_category  \\\n",
       "0  A do it yourself boba tea kit that allows you ...          food   \n",
       "1    Sophisticated Mexican old school style apparel.       fashion   \n",
       "2  RotenStein Clothing Co. Una nueva marca de rop...       fashion   \n",
       "3  Z-City, A Zombie based Survival-Battle Royale ...         games   \n",
       "4                     A Samurai Horror Graphic Novel        comics   \n",
       "\n",
       "                                       names  \\\n",
       "0                   Boba Era: Boba From Home   \n",
       "1                         Mr Cochino Apparel   \n",
       "2  RotenStein Clothing Co. (Arte en tu ropa)   \n",
       "3              Z-City Survival-Battle Royale   \n",
       "4                                Death Kanji   \n",
       "\n",
       "                                        proj_details     status  \\\n",
       "0  \\n\\t\\t\\t\\t\\tBackers: 10,\\n\\t\\t\\t\\t\\tFunding: $...  Cancelled   \n",
       "1  \\n\\t\\t\\t\\t\\tBackers: 1,\\n\\t\\t\\t\\t\\tFunding: $1...  Cancelled   \n",
       "2  \\n\\t\\t\\t\\t\\tBackers: 1,\\n\\t\\t\\t\\t\\tFunding: MX...  Cancelled   \n",
       "3  \\n\\t\\t\\t\\t\\tBackers: 1,\\n\\t\\t\\t\\t\\tFunding: $1...  Cancelled   \n",
       "4  \\n\\t\\t\\t\\t\\tBackers: 0,\\n\\t\\t\\t\\t\\tFunding: $0...  Cancelled   \n",
       "\n",
       "     sub_category                          campaign_dates   launched  \n",
       "0          drinks   Dates: June 3rd -> August 2nd (2020), 2020-06-03  \n",
       "1         apparel  Dates: June 26th -> August 2nd (2020), 2020-06-26  \n",
       "2         apparel   Dates: June 3rd -> August 2nd (2020), 2020-06-03  \n",
       "3     video games   Dates: July 3rd -> August 2nd (2020), 2020-07-03  \n",
       "4  graphic novels   Dates: July 3rd -> August 2nd (2020), 2020-07-03  "
      ]
     },
     "execution_count": 13,
     "metadata": {},
     "output_type": "execute_result"
    }
   ],
   "source": [
    "dfn.head(5)"
   ]
  },
  {
   "cell_type": "markdown",
   "metadata": {},
   "source": [
    "##### 'deadline' same as 'launched' above"
   ]
  },
  {
   "cell_type": "code",
   "execution_count": 14,
   "metadata": {},
   "outputs": [],
   "source": [
    "end_date = [re.findall('-> (\\D+) (\\d+).+\\((\\d+)\\)', el)[0] for el in dfn['campaign_dates']]"
   ]
  },
  {
   "cell_type": "code",
   "execution_count": 15,
   "metadata": {},
   "outputs": [],
   "source": [
    "end_date = [' '.join(date) for date in end_date]"
   ]
  },
  {
   "cell_type": "code",
   "execution_count": 16,
   "metadata": {},
   "outputs": [
    {
     "name": "stderr",
     "output_type": "stream",
     "text": [
      "/opt/anaconda3/lib/python3.7/site-packages/ipykernel_launcher.py:2: FutureWarning: The pandas.datetime class is deprecated and will be removed from pandas in a future version. Import from datetime module instead.\n",
      "  \n"
     ]
    }
   ],
   "source": [
    "# drop campaign dates\n",
    "dfn['deadline']= [pd.datetime.strptime(s, '%B %d %Y') for s in end_date]"
   ]
  },
  {
   "cell_type": "code",
   "execution_count": 17,
   "metadata": {},
   "outputs": [
    {
     "data": {
      "text/html": [
       "<div>\n",
       "<style scoped>\n",
       "    .dataframe tbody tr th:only-of-type {\n",
       "        vertical-align: middle;\n",
       "    }\n",
       "\n",
       "    .dataframe tbody tr th {\n",
       "        vertical-align: top;\n",
       "    }\n",
       "\n",
       "    .dataframe thead th {\n",
       "        text-align: right;\n",
       "    }\n",
       "</style>\n",
       "<table border=\"1\" class=\"dataframe\">\n",
       "  <thead>\n",
       "    <tr style=\"text-align: right;\">\n",
       "      <th></th>\n",
       "      <th>backers</th>\n",
       "      <th>category</th>\n",
       "      <th>description</th>\n",
       "      <th>main_category</th>\n",
       "      <th>names</th>\n",
       "      <th>proj_details</th>\n",
       "      <th>status</th>\n",
       "      <th>sub_category</th>\n",
       "      <th>campaign_dates</th>\n",
       "      <th>launched</th>\n",
       "      <th>deadline</th>\n",
       "    </tr>\n",
       "  </thead>\n",
       "  <tbody>\n",
       "    <tr>\n",
       "      <th>2135</th>\n",
       "      <td>4</td>\n",
       "      <td>music|kids</td>\n",
       "      <td>Children's songs</td>\n",
       "      <td>music</td>\n",
       "      <td>The Godino Show</td>\n",
       "      <td>\\n\\t\\t\\t\\t\\tBackers: 4,\\n\\t\\t\\t\\t\\tFunding: $1...</td>\n",
       "      <td>Closed</td>\n",
       "      <td>kids</td>\n",
       "      <td>Dates: April 9th -&gt; April 24th (2020),</td>\n",
       "      <td>2020-04-09</td>\n",
       "      <td>2020-04-24</td>\n",
       "    </tr>\n",
       "    <tr>\n",
       "      <th>1080</th>\n",
       "      <td>34</td>\n",
       "      <td>games|video games</td>\n",
       "      <td>An old-school real time strategy, inspired by ...</td>\n",
       "      <td>games</td>\n",
       "      <td>EMPEROR: The Battle Of Dynasties</td>\n",
       "      <td>\\n\\t\\t\\t\\t\\tBackers: 34,\\n\\t\\t\\t\\t\\tFunding: $...</td>\n",
       "      <td>Closed</td>\n",
       "      <td>video games</td>\n",
       "      <td>Dates: March 15th -&gt; April 12th (2020),</td>\n",
       "      <td>2020-03-15</td>\n",
       "      <td>2020-04-12</td>\n",
       "    </tr>\n",
       "    <tr>\n",
       "      <th>8115</th>\n",
       "      <td>61</td>\n",
       "      <td>comics|comic books</td>\n",
       "      <td>art book</td>\n",
       "      <td>comics</td>\n",
       "      <td>BADGIRL SKETCHBOOK VOL.19</td>\n",
       "      <td>\\n\\t\\t\\t\\t\\tBackers: 61,\\n\\t\\t\\t\\t\\tFunding: $...</td>\n",
       "      <td>Closed</td>\n",
       "      <td>comic books</td>\n",
       "      <td>Dates: June 25th -&gt; July 1st (2020),</td>\n",
       "      <td>2020-06-25</td>\n",
       "      <td>2020-07-01</td>\n",
       "    </tr>\n",
       "    <tr>\n",
       "      <th>5554</th>\n",
       "      <td>180</td>\n",
       "      <td>games|playing cards</td>\n",
       "      <td>WHITE EDITION.</td>\n",
       "      <td>games</td>\n",
       "      <td>WARRIOR PLAYING CARDS by RJ</td>\n",
       "      <td>\\n\\t\\t\\t\\t\\tBackers: 180,\\n\\t\\t\\t\\t\\tFunding: ...</td>\n",
       "      <td>Closed</td>\n",
       "      <td>playing cards</td>\n",
       "      <td>Dates: May 5th -&gt; June 4th (2020),</td>\n",
       "      <td>2020-05-05</td>\n",
       "      <td>2020-06-04</td>\n",
       "    </tr>\n",
       "    <tr>\n",
       "      <th>713</th>\n",
       "      <td>43</td>\n",
       "      <td>games|tabletop games</td>\n",
       "      <td>Themed Sets in unique 3D-design boxes combined...</td>\n",
       "      <td>games</td>\n",
       "      <td>SPIRIT OF ADVENTURE | MULTICOLOR GEAR DICE</td>\n",
       "      <td>\\n\\t\\t\\t\\t\\tBackers: 43,\\n\\t\\t\\t\\t\\tFunding: $...</td>\n",
       "      <td>Closed</td>\n",
       "      <td>tabletop games</td>\n",
       "      <td>Dates: March 9th -&gt; April 9th (2020),</td>\n",
       "      <td>2020-03-09</td>\n",
       "      <td>2020-04-09</td>\n",
       "    </tr>\n",
       "  </tbody>\n",
       "</table>\n",
       "</div>"
      ],
      "text/plain": [
       "      backers              category  \\\n",
       "2135        4            music|kids   \n",
       "1080       34     games|video games   \n",
       "8115       61    comics|comic books   \n",
       "5554      180   games|playing cards   \n",
       "713        43  games|tabletop games   \n",
       "\n",
       "                                            description main_category  \\\n",
       "2135                                   Children's songs         music   \n",
       "1080  An old-school real time strategy, inspired by ...         games   \n",
       "8115                                           art book        comics   \n",
       "5554                                     WHITE EDITION.         games   \n",
       "713   Themed Sets in unique 3D-design boxes combined...         games   \n",
       "\n",
       "                                           names  \\\n",
       "2135                             The Godino Show   \n",
       "1080            EMPEROR: The Battle Of Dynasties   \n",
       "8115                   BADGIRL SKETCHBOOK VOL.19   \n",
       "5554                 WARRIOR PLAYING CARDS by RJ   \n",
       "713   SPIRIT OF ADVENTURE | MULTICOLOR GEAR DICE   \n",
       "\n",
       "                                           proj_details  status  \\\n",
       "2135  \\n\\t\\t\\t\\t\\tBackers: 4,\\n\\t\\t\\t\\t\\tFunding: $1...  Closed   \n",
       "1080  \\n\\t\\t\\t\\t\\tBackers: 34,\\n\\t\\t\\t\\t\\tFunding: $...  Closed   \n",
       "8115  \\n\\t\\t\\t\\t\\tBackers: 61,\\n\\t\\t\\t\\t\\tFunding: $...  Closed   \n",
       "5554  \\n\\t\\t\\t\\t\\tBackers: 180,\\n\\t\\t\\t\\t\\tFunding: ...  Closed   \n",
       "713   \\n\\t\\t\\t\\t\\tBackers: 43,\\n\\t\\t\\t\\t\\tFunding: $...  Closed   \n",
       "\n",
       "        sub_category                           campaign_dates   launched  \\\n",
       "2135            kids   Dates: April 9th -> April 24th (2020), 2020-04-09   \n",
       "1080     video games  Dates: March 15th -> April 12th (2020), 2020-03-15   \n",
       "8115     comic books     Dates: June 25th -> July 1st (2020), 2020-06-25   \n",
       "5554   playing cards       Dates: May 5th -> June 4th (2020), 2020-05-05   \n",
       "713   tabletop games    Dates: March 9th -> April 9th (2020), 2020-03-09   \n",
       "\n",
       "       deadline  \n",
       "2135 2020-04-24  \n",
       "1080 2020-04-12  \n",
       "8115 2020-07-01  \n",
       "5554 2020-06-04  \n",
       "713  2020-04-09  "
      ]
     },
     "execution_count": 17,
     "metadata": {},
     "output_type": "execute_result"
    }
   ],
   "source": [
    "dfn.sample(5)"
   ]
  },
  {
   "cell_type": "markdown",
   "metadata": {},
   "source": [
    "##### Extracting funding portion of proj_details into 'funding' col also deals with missing values"
   ]
  },
  {
   "cell_type": "code",
   "execution_count": 18,
   "metadata": {},
   "outputs": [],
   "source": [
    "##### KEEP THIS HOW WE GOT THE FUNDING STRING EVEN IF MISSING\n",
    "dfn['funding'] = [None if re.findall('Funding: (.*)', el)==[] else re.findall('Funding: (.*)', el)[0] for el in dfn['proj_details']] "
   ]
  },
  {
   "cell_type": "markdown",
   "metadata": {},
   "source": [
    "##### Spliting funding into three columns: currency, pledged, goal"
   ]
  },
  {
   "cell_type": "code",
   "execution_count": 20,
   "metadata": {},
   "outputs": [],
   "source": [
    "dfn['funding'] = dfn['funding'].str.replace(',','')"
   ]
  },
  {
   "cell_type": "code",
   "execution_count": 21,
   "metadata": {},
   "outputs": [],
   "source": [
    "# turn funding into tuple (currency, pledged, goal) take into account None types in list comprehension\n",
    "dfn['funding'] = [None if el==None else re.findall('(\\D*)(\\d*) of \\D*(\\d*) \\(', el)[0] for el in dfn['funding']] "
   ]
  },
  {
   "cell_type": "code",
   "execution_count": 22,
   "metadata": {},
   "outputs": [],
   "source": [
    "# splitting tuple into columns in new dfn_fund\n",
    "dfn_fund = dfn['funding'].apply(pd.Series)"
   ]
  },
  {
   "cell_type": "code",
   "execution_count": 23,
   "metadata": {},
   "outputs": [],
   "source": [
    "# renaming columns\n",
    "dfn_fund.columns=['currency_sym', 'pledged', 'goal']"
   ]
  },
  {
   "cell_type": "code",
   "execution_count": 24,
   "metadata": {},
   "outputs": [
    {
     "data": {
      "text/html": [
       "<div>\n",
       "<style scoped>\n",
       "    .dataframe tbody tr th:only-of-type {\n",
       "        vertical-align: middle;\n",
       "    }\n",
       "\n",
       "    .dataframe tbody tr th {\n",
       "        vertical-align: top;\n",
       "    }\n",
       "\n",
       "    .dataframe thead th {\n",
       "        text-align: right;\n",
       "    }\n",
       "</style>\n",
       "<table border=\"1\" class=\"dataframe\">\n",
       "  <thead>\n",
       "    <tr style=\"text-align: right;\">\n",
       "      <th></th>\n",
       "      <th>currency_sym</th>\n",
       "      <th>pledged</th>\n",
       "      <th>goal</th>\n",
       "    </tr>\n",
       "  </thead>\n",
       "  <tbody>\n",
       "    <tr>\n",
       "      <th>0</th>\n",
       "      <td>$</td>\n",
       "      <td>401</td>\n",
       "      <td>3000</td>\n",
       "    </tr>\n",
       "    <tr>\n",
       "      <th>1</th>\n",
       "      <td>$</td>\n",
       "      <td>1</td>\n",
       "      <td>16578</td>\n",
       "    </tr>\n",
       "    <tr>\n",
       "      <th>2</th>\n",
       "      <td>MX$</td>\n",
       "      <td>19</td>\n",
       "      <td>73000</td>\n",
       "    </tr>\n",
       "    <tr>\n",
       "      <th>3</th>\n",
       "      <td>$</td>\n",
       "      <td>1</td>\n",
       "      <td>5000</td>\n",
       "    </tr>\n",
       "    <tr>\n",
       "      <th>4</th>\n",
       "      <td>$</td>\n",
       "      <td>0</td>\n",
       "      <td>7500</td>\n",
       "    </tr>\n",
       "  </tbody>\n",
       "</table>\n",
       "</div>"
      ],
      "text/plain": [
       "  currency_sym pledged   goal\n",
       "0            $     401   3000\n",
       "1            $       1  16578\n",
       "2          MX$      19  73000\n",
       "3            $       1   5000\n",
       "4            $       0   7500"
      ]
     },
     "execution_count": 24,
     "metadata": {},
     "output_type": "execute_result"
    }
   ],
   "source": [
    "dfn_fund.head(5)"
   ]
  },
  {
   "cell_type": "code",
   "execution_count": 25,
   "metadata": {},
   "outputs": [],
   "source": [
    "# concat dfn and dfn_fund and drop unnecessary columns\n",
    "dfn = pd.concat([dfn, dfn_fund], axis = 1).drop(['proj_details', 'category', 'campaign_dates', 'funding'], axis = 1)"
   ]
  },
  {
   "cell_type": "code",
   "execution_count": 27,
   "metadata": {},
   "outputs": [
    {
     "data": {
      "text/html": [
       "<div>\n",
       "<style scoped>\n",
       "    .dataframe tbody tr th:only-of-type {\n",
       "        vertical-align: middle;\n",
       "    }\n",
       "\n",
       "    .dataframe tbody tr th {\n",
       "        vertical-align: top;\n",
       "    }\n",
       "\n",
       "    .dataframe thead th {\n",
       "        text-align: right;\n",
       "    }\n",
       "</style>\n",
       "<table border=\"1\" class=\"dataframe\">\n",
       "  <thead>\n",
       "    <tr style=\"text-align: right;\">\n",
       "      <th></th>\n",
       "      <th>backers</th>\n",
       "      <th>description</th>\n",
       "      <th>main_category</th>\n",
       "      <th>names</th>\n",
       "      <th>status</th>\n",
       "      <th>sub_category</th>\n",
       "      <th>launched</th>\n",
       "      <th>deadline</th>\n",
       "      <th>currency_sym</th>\n",
       "      <th>pledged</th>\n",
       "      <th>goal</th>\n",
       "    </tr>\n",
       "  </thead>\n",
       "  <tbody>\n",
       "    <tr>\n",
       "      <th>0</th>\n",
       "      <td>10</td>\n",
       "      <td>A do it yourself boba tea kit that allows you ...</td>\n",
       "      <td>food</td>\n",
       "      <td>Boba Era: Boba From Home</td>\n",
       "      <td>Cancelled</td>\n",
       "      <td>drinks</td>\n",
       "      <td>2020-06-03</td>\n",
       "      <td>2020-08-02</td>\n",
       "      <td>$</td>\n",
       "      <td>401</td>\n",
       "      <td>3000</td>\n",
       "    </tr>\n",
       "    <tr>\n",
       "      <th>1</th>\n",
       "      <td>1</td>\n",
       "      <td>Sophisticated Mexican old school style apparel.</td>\n",
       "      <td>fashion</td>\n",
       "      <td>Mr Cochino Apparel</td>\n",
       "      <td>Cancelled</td>\n",
       "      <td>apparel</td>\n",
       "      <td>2020-06-26</td>\n",
       "      <td>2020-08-02</td>\n",
       "      <td>$</td>\n",
       "      <td>1</td>\n",
       "      <td>16578</td>\n",
       "    </tr>\n",
       "    <tr>\n",
       "      <th>2</th>\n",
       "      <td>1</td>\n",
       "      <td>RotenStein Clothing Co. Una nueva marca de rop...</td>\n",
       "      <td>fashion</td>\n",
       "      <td>RotenStein Clothing Co. (Arte en tu ropa)</td>\n",
       "      <td>Cancelled</td>\n",
       "      <td>apparel</td>\n",
       "      <td>2020-06-03</td>\n",
       "      <td>2020-08-02</td>\n",
       "      <td>MX$</td>\n",
       "      <td>19</td>\n",
       "      <td>73000</td>\n",
       "    </tr>\n",
       "    <tr>\n",
       "      <th>3</th>\n",
       "      <td>1</td>\n",
       "      <td>Z-City, A Zombie based Survival-Battle Royale ...</td>\n",
       "      <td>games</td>\n",
       "      <td>Z-City Survival-Battle Royale</td>\n",
       "      <td>Cancelled</td>\n",
       "      <td>video games</td>\n",
       "      <td>2020-07-03</td>\n",
       "      <td>2020-08-02</td>\n",
       "      <td>$</td>\n",
       "      <td>1</td>\n",
       "      <td>5000</td>\n",
       "    </tr>\n",
       "    <tr>\n",
       "      <th>4</th>\n",
       "      <td>0</td>\n",
       "      <td>A Samurai Horror Graphic Novel</td>\n",
       "      <td>comics</td>\n",
       "      <td>Death Kanji</td>\n",
       "      <td>Cancelled</td>\n",
       "      <td>graphic novels</td>\n",
       "      <td>2020-07-03</td>\n",
       "      <td>2020-08-02</td>\n",
       "      <td>$</td>\n",
       "      <td>0</td>\n",
       "      <td>7500</td>\n",
       "    </tr>\n",
       "  </tbody>\n",
       "</table>\n",
       "</div>"
      ],
      "text/plain": [
       "   backers                                        description main_category  \\\n",
       "0       10  A do it yourself boba tea kit that allows you ...          food   \n",
       "1        1    Sophisticated Mexican old school style apparel.       fashion   \n",
       "2        1  RotenStein Clothing Co. Una nueva marca de rop...       fashion   \n",
       "3        1  Z-City, A Zombie based Survival-Battle Royale ...         games   \n",
       "4        0                     A Samurai Horror Graphic Novel        comics   \n",
       "\n",
       "                                       names     status    sub_category  \\\n",
       "0                   Boba Era: Boba From Home  Cancelled          drinks   \n",
       "1                         Mr Cochino Apparel  Cancelled         apparel   \n",
       "2  RotenStein Clothing Co. (Arte en tu ropa)  Cancelled         apparel   \n",
       "3              Z-City Survival-Battle Royale  Cancelled     video games   \n",
       "4                                Death Kanji  Cancelled  graphic novels   \n",
       "\n",
       "    launched   deadline currency_sym pledged   goal  \n",
       "0 2020-06-03 2020-08-02            $     401   3000  \n",
       "1 2020-06-26 2020-08-02            $       1  16578  \n",
       "2 2020-06-03 2020-08-02          MX$      19  73000  \n",
       "3 2020-07-03 2020-08-02            $       1   5000  \n",
       "4 2020-07-03 2020-08-02            $       0   7500  "
      ]
     },
     "execution_count": 27,
     "metadata": {},
     "output_type": "execute_result"
    }
   ],
   "source": [
    "dfn.head(5)"
   ]
  },
  {
   "cell_type": "markdown",
   "metadata": {},
   "source": [
    "### Currency - adding currency code and USD exchange rate"
   ]
  },
  {
   "cell_type": "code",
   "execution_count": null,
   "metadata": {},
   "outputs": [],
   "source": []
  },
  {
   "cell_type": "code",
   "execution_count": null,
   "metadata": {},
   "outputs": [],
   "source": []
  },
  {
   "cell_type": "code",
   "execution_count": null,
   "metadata": {},
   "outputs": [],
   "source": []
  },
  {
   "cell_type": "code",
   "execution_count": null,
   "metadata": {},
   "outputs": [],
   "source": []
  },
  {
   "cell_type": "code",
   "execution_count": null,
   "metadata": {},
   "outputs": [],
   "source": []
  },
  {
   "cell_type": "code",
   "execution_count": null,
   "metadata": {},
   "outputs": [],
   "source": []
  },
  {
   "cell_type": "code",
   "execution_count": null,
   "metadata": {},
   "outputs": [],
   "source": []
  },
  {
   "cell_type": "markdown",
   "metadata": {},
   "source": [
    "### Splitting category"
   ]
  },
  {
   "cell_type": "code",
   "execution_count": null,
   "metadata": {},
   "outputs": [],
   "source": [
    "#### KEEP\n",
    "dfn_cat = dfn['category'].str.split('|',expand=True) #this one and merge to data frame"
   ]
  },
  {
   "cell_type": "markdown",
   "metadata": {},
   "source": [
    "###### concat dfn and dfn_cat, drop 0 (name of the first component of split), rename second new column 'sub_category'"
   ]
  },
  {
   "cell_type": "code",
   "execution_count": null,
   "metadata": {},
   "outputs": [],
   "source": [
    "#### KEEP\n",
    "dfn = pd.concat([dfn, dfn_cat], axis=1).drop(0,1).rename(columns = {1:'sub_category'})"
   ]
  },
  {
   "cell_type": "code",
   "execution_count": null,
   "metadata": {},
   "outputs": [],
   "source": [
    "\n",
    "\n",
    "dfn.sample(5)"
   ]
  },
  {
   "cell_type": "code",
   "execution_count": null,
   "metadata": {},
   "outputs": [],
   "source": [
    "# dfn['main_category'] = [el.split('|')[0] for el in dfn['category']] # would work if had no missing\n",
    "# dfn['sub_category'] = [el.split('|')[1] for el in dfn['category']]"
   ]
  },
  {
   "cell_type": "code",
   "execution_count": null,
   "metadata": {},
   "outputs": [],
   "source": [
    "dfn.columns"
   ]
  },
  {
   "cell_type": "code",
   "execution_count": null,
   "metadata": {},
   "outputs": [],
   "source": [
    "    "
   ]
  },
  {
   "cell_type": "code",
   "execution_count": null,
   "metadata": {},
   "outputs": [],
   "source": [
    "# test_list = ['\\n\\t\\t\\t\\t\\tBackers: 10,\\n\\t\\t\\t\\t\\tFunding: $401 of $3,000 (,13% funded,),\\n\\t\\t\\t\\t\\tCampaign Dates: June 3rd -> August 2nd (2020),\\n\\t\\t\\t\\t\\tClosed: Sunday August 2nd, 2020,\\n\\t\\t\\t\\t',\n",
    "#  '\\n\\t\\t\\t\\t\\tBackers: 1,\\n\\t\\t\\t\\t\\tCampaign Dates: June 26th -> August 2nd (2020),\\n\\t\\t\\t\\t\\tClosed: Sunday August 2nd, 2020,\\n\\t\\t\\t\\t',\n",
    "#  '\\n\\t\\t\\t\\t\\tBackers: 1,\\n\\t\\t\\t\\t\\tFunding: MX$19 of MX$73,000 (,0% funded,),\\n\\t\\t\\t\\t\\tCampaign Dates: June 3rd -> August 2nd (2020),\\n\\t\\t\\t\\t\\tClosed: Sunday August 2nd, 2020,\\n\\t\\t\\t\\t',]"
   ]
  },
  {
   "cell_type": "markdown",
   "metadata": {},
   "source": [
    "##### Changing currency"
   ]
  },
  {
   "cell_type": "code",
   "execution_count": null,
   "metadata": {},
   "outputs": [],
   "source": [
    "dfn['currency'].value_counts() # see what currency we have"
   ]
  },
  {
   "cell_type": "markdown",
   "metadata": {},
   "source": [
    "##### creating currency exchange data frame"
   ]
  },
  {
   "cell_type": "code",
   "execution_count": null,
   "metadata": {},
   "outputs": [],
   "source": [
    "symb_dict = {'currency':['$','€','£', '¥'], 'currency_code':['USD', 'EUR', 'GPB', 'JPY'], 'exchange_rt_to_USD': [1, 1.16, 1.28, 0.0094]}\n",
    "df_cur_sym = pd.DataFrame(symb_dict)\n",
    "df_cur_sym\n"
   ]
  },
  {
   "cell_type": "markdown",
   "metadata": {},
   "source": [
    "##### merge dfn with currency exchange"
   ]
  },
  {
   "cell_type": "code",
   "execution_count": null,
   "metadata": {},
   "outputs": [],
   "source": [
    "dfn = pd.merge(dfn, df_cur_sym, how='left', on='currency')"
   ]
  },
  {
   "cell_type": "code",
   "execution_count": null,
   "metadata": {},
   "outputs": [],
   "source": [
    "dfn.sample(5)"
   ]
  },
  {
   "cell_type": "markdown",
   "metadata": {},
   "source": [
    "#### updating status column to include fail and success, percent funded, usd pledged, usd goal"
   ]
  },
  {
   "cell_type": "code",
   "execution_count": null,
   "metadata": {},
   "outputs": [],
   "source": []
  },
  {
   "cell_type": "code",
   "execution_count": null,
   "metadata": {},
   "outputs": [],
   "source": [
    "df2_sort_names=df2.sort_values('names')['names']\n",
    "df2_sort_names=df2_sort_names.dropna(axis=0, how='any')\n",
    "df2_sort_names.shape[0]"
   ]
  },
  {
   "cell_type": "code",
   "execution_count": null,
   "metadata": {},
   "outputs": [],
   "source": []
  },
  {
   "cell_type": "code",
   "execution_count": null,
   "metadata": {},
   "outputs": [],
   "source": []
  },
  {
   "cell_type": "code",
   "execution_count": null,
   "metadata": {},
   "outputs": [],
   "source": [
    "merged_names = pd.merge(df_sort_names, df2_sort_names, how = 'outer', on='names')\n",
    "merged_names.shape[0]/15"
   ]
  },
  {
   "cell_type": "code",
   "execution_count": null,
   "metadata": {},
   "outputs": [],
   "source": [
    "merged_names.loc[merged_names]"
   ]
  },
  {
   "cell_type": "code",
   "execution_count": null,
   "metadata": {},
   "outputs": [],
   "source": [
    "here = ['! EMPOWER MY POTENTIAL - DEVOUR MY MENTAL !',\n",
    " '\" \" -> Quotidian - a poetry debut collection',]\n",
    "there = ['! EMPOWER MY POTENTIAL - DEVOUR MY MENTAL !',\n",
    " '\" \" -> Quotidian - a poetry debut collection',]\n",
    "here == there"
   ]
  },
  {
   "cell_type": "code",
   "execution_count": null,
   "metadata": {},
   "outputs": [],
   "source": [
    "df2_sort_names == df_sort_names"
   ]
  },
  {
   "cell_type": "code",
   "execution_count": null,
   "metadata": {},
   "outputs": [],
   "source": []
  },
  {
   "cell_type": "code",
   "execution_count": null,
   "metadata": {},
   "outputs": [],
   "source": []
  },
  {
   "cell_type": "code",
   "execution_count": null,
   "metadata": {},
   "outputs": [],
   "source": []
  },
  {
   "cell_type": "code",
   "execution_count": null,
   "metadata": {},
   "outputs": [],
   "source": []
  },
  {
   "cell_type": "code",
   "execution_count": null,
   "metadata": {},
   "outputs": [],
   "source": []
  },
  {
   "cell_type": "code",
   "execution_count": null,
   "metadata": {},
   "outputs": [],
   "source": [
    "# month_dict = {'January':'01', 'February':'02', 'March':'03', 'April':'04', 'May':'05', 'June':'06', 'July':'07', 'August':'08', 'September':'09', 'October':'10', 'November':'11', 'December':'12'}"
   ]
  },
  {
   "cell_type": "code",
   "execution_count": null,
   "metadata": {},
   "outputs": [],
   "source": [
    "# category = ['/categories/main/']\n",
    "# main_category = ''\n",
    "# if len(category) == 1:\n",
    "#     main_category = category[0].strip('/').replace('categories/','')\n",
    "#     category = None\n",
    "# else:\n",
    "#     main_category = category[0].strip('/').replace('categories/','')\n",
    "#     category = category[1].strip('/').replace('categories/','').replace('/','|')\n",
    "# print(main_category)\n",
    "# print(category)"
   ]
  },
  {
   "cell_type": "code",
   "execution_count": null,
   "metadata": {},
   "outputs": [],
   "source": []
  },
  {
   "cell_type": "code",
   "execution_count": null,
   "metadata": {},
   "outputs": [],
   "source": [
    "df = pd.read_csv('/Users/judy/Desktop/WebScp/GitWebScp/data/Web_Scraping_Proj/ks-projects-201801.csv')\n",
    "df.sample(20)"
   ]
  },
  {
   "cell_type": "code",
   "execution_count": null,
   "metadata": {},
   "outputs": [],
   "source": [
    "df.columns.tolist()"
   ]
  },
  {
   "cell_type": "code",
   "execution_count": null,
   "metadata": {},
   "outputs": [],
   "source": [
    "df['currency'].value_counts()"
   ]
  },
  {
   "cell_type": "code",
   "execution_count": null,
   "metadata": {},
   "outputs": [],
   "source": [
    "df['deadline'].sort_values(ascending=False)"
   ]
  },
  {
   "cell_type": "code",
   "execution_count": null,
   "metadata": {},
   "outputs": [],
   "source": [
    "df['currency'].value_counts()"
   ]
  },
  {
   "cell_type": "code",
   "execution_count": null,
   "metadata": {},
   "outputs": [],
   "source": []
  }
 ],
 "metadata": {
  "kernelspec": {
   "display_name": "Python 3",
   "language": "python",
   "name": "python3"
  },
  "language_info": {
   "codemirror_mode": {
    "name": "ipython",
    "version": 3
   },
   "file_extension": ".py",
   "mimetype": "text/x-python",
   "name": "python",
   "nbconvert_exporter": "python",
   "pygments_lexer": "ipython3",
   "version": "3.7.6"
  }
 },
 "nbformat": 4,
 "nbformat_minor": 4
}
